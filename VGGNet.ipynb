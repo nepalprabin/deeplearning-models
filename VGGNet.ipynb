{
  "nbformat": 4,
  "nbformat_minor": 0,
  "metadata": {
    "colab": {
      "name": "VGGNet.ipynb",
      "provenance": [],
      "collapsed_sections": [],
      "authorship_tag": "ABX9TyOLuOM5x9P0CQwWvU23jWXr",
      "include_colab_link": true
    },
    "kernelspec": {
      "name": "python3",
      "display_name": "Python 3"
    },
    "accelerator": "GPU"
  },
  "cells": [
    {
      "cell_type": "markdown",
      "metadata": {
        "id": "view-in-github",
        "colab_type": "text"
      },
      "source": [
        "<a href=\"https://colab.research.google.com/github/nepalprabin/deeplearning-models/blob/master/VGGNet.ipynb\" target=\"_parent\"><img src=\"https://colab.research.google.com/assets/colab-badge.svg\" alt=\"Open In Colab\"/></a>"
      ]
    },
    {
      "cell_type": "code",
      "metadata": {
        "id": "uKTXeB25P2ne",
        "colab_type": "code",
        "colab": {}
      },
      "source": [
        "from tensorflow.keras.layers import Input, Conv2D, Dense, Flatten, Activation, MaxPool2D"
      ],
      "execution_count": 0,
      "outputs": []
    },
    {
      "cell_type": "markdown",
      "metadata": {
        "id": "LKq4VBS2RmVa",
        "colab_type": "text"
      },
      "source": [
        "**Convolution blocks**"
      ]
    },
    {
      "cell_type": "code",
      "metadata": {
        "id": "IbBppy1pQc0_",
        "colab_type": "code",
        "colab": {}
      },
      "source": [
        "input = Input(shape=(224,224,3))"
      ],
      "execution_count": 0,
      "outputs": []
    },
    {
      "cell_type": "markdown",
      "metadata": {
        "id": "YKeslxBWRw3i",
        "colab_type": "text"
      },
      "source": [
        "**1st block**\n",
        "#### First block consists of: conv3_64, conv3_64, maxpool with stride 2"
      ]
    },
    {
      "cell_type": "code",
      "metadata": {
        "id": "9Gz2mw7oSU0q",
        "colab_type": "code",
        "colab": {}
      },
      "source": [
        "x = Conv2D(filters=64, kernel_size=3, padding='same', activation='relu')(input)\n",
        "x = Conv2D(filters=64, kernel_size=3, padding='same', activation='relu')(x)\n",
        "x = MaxPool2D(pool_size=2, strides=2, padding='same')(x)"
      ],
      "execution_count": 0,
      "outputs": []
    },
    {
      "cell_type": "markdown",
      "metadata": {
        "id": "fttwneTRS7k4",
        "colab_type": "text"
      },
      "source": [
        "**2nd block**\n",
        "Second block consists of: conv3_128, conv3_128 and maxpool with stride 2"
      ]
    },
    {
      "cell_type": "code",
      "metadata": {
        "id": "gIIdhmkaSy5s",
        "colab_type": "code",
        "colab": {}
      },
      "source": [
        "x = Conv2D(filters=128, kernel_size=3, padding='same', activation='relu')(x)\n",
        "x = Conv2D(filters=128, kernel_size=3, padding='same', activation='relu')(x)\n",
        "x = MaxPool2D(pool_size=2, strides=2, padding='same')(x)"
      ],
      "execution_count": 0,
      "outputs": []
    },
    {
      "cell_type": "markdown",
      "metadata": {
        "id": "nL1NIGvDTggj",
        "colab_type": "text"
      },
      "source": [
        "**3rd Layer**\n",
        "Third layer consists of \n",
        "\n",
        "\n",
        "*   conv3_256\n",
        "*   conv3_256\n",
        "*   conv3_356\n",
        "*   maxpool with stride 2\n",
        "\n"
      ]
    },
    {
      "cell_type": "code",
      "metadata": {
        "id": "DzXdLeY7TewC",
        "colab_type": "code",
        "colab": {}
      },
      "source": [
        "x = Conv2D(filters=256, kernel_size=3, padding='same', activation='relu')(x)\n",
        "x = Conv2D(filters=256, kernel_size=3, padding='same', activation='relu')(x)\n",
        "x = Conv2D(filters=256, kernel_size=3, padding='same', activation='relu')(x)\n",
        "x = MaxPool2D(pool_size=2, strides=2, padding='same')(x)"
      ],
      "execution_count": 0,
      "outputs": []
    },
    {
      "cell_type": "markdown",
      "metadata": {
        "id": "V-9eOgtcUPA8",
        "colab_type": "text"
      },
      "source": [
        "**4th Layer**\n",
        "Fourth layer consists of \n",
        "\n",
        "\n",
        "*   conv4_512\n",
        "*   conv4_512\n",
        "*   conv4_512\n",
        "*   maxpool with stride 2\n",
        "\n",
        "**5th Layer**\n",
        "Fifth layer consists of \n",
        "\n",
        "\n",
        "*   conv4_512\n",
        "*   conv4_512\n",
        "*   conv4_512\n",
        "*   maxpool with stride 2"
      ]
    },
    {
      "cell_type": "code",
      "metadata": {
        "id": "1tYunaixUNa0",
        "colab_type": "code",
        "colab": {}
      },
      "source": [
        "x = Conv2D(filters=512, kernel_size=3, padding='same', activation='relu')(x)\n",
        "x = Conv2D(filters=512, kernel_size=3, padding='same', activation='relu')(x)\n",
        "x = Conv2D(filters=512, kernel_size=3, padding='same', activation='relu')(x)\n",
        "x = MaxPool2D(pool_size=2, strides=2, padding='same')(x)\n",
        "\n",
        "x = Conv2D(filters=512, kernel_size=3, padding='same', activation='relu')(x)\n",
        "x = Conv2D(filters=512, kernel_size=3, padding='same', activation='relu')(x)\n",
        "x = Conv2D(filters=512, kernel_size=3, padding='same', activation='relu')(x)\n",
        "x = MaxPool2D(pool_size=2, strides=2, padding='same')(x)"
      ],
      "execution_count": 0,
      "outputs": []
    },
    {
      "cell_type": "code",
      "metadata": {
        "id": "1nPefpUCU2Wp",
        "colab_type": "code",
        "colab": {}
      },
      "source": [
        "#Dense Layers\n",
        "x = Flatten(x)\n",
        "x = Dense(units=4096, activation='relu')(x)\n",
        "x = Dense(units=4096, activation='relu')(x)\n",
        "output = Dense(units=1000, activation='softmax')(x)"
      ],
      "execution_count": 0,
      "outputs": []
    },
    {
      "cell_type": "code",
      "metadata": {
        "id": "Op6iTPuQVv2l",
        "colab_type": "code",
        "colab": {}
      },
      "source": [
        "from tensorflow.keras import Model\n",
        "model = Model(inputs=input, outputs=output)"
      ],
      "execution_count": 0,
      "outputs": []
    },
    {
      "cell_type": "markdown",
      "metadata": {
        "id": "NntSA1STWEox",
        "colab_type": "text"
      },
      "source": [
        "**VGGNet model**\n",
        "\n",
        "![alt text](https://camo.githubusercontent.com/12802421bd34a2d7e6e5140b2db7e5756064b6e1/68747470733a2f2f7261772e67697468756275736572636f6e74656e742e636f6d2f4d616368696e652d4c6561726e696e672d546f6b796f2f434e4e2d417263686974656374757265732f6d61737465722f496d706c656d656e746174696f6e732f5647474e65742f5647474e65745f6469616772616d2e7376673f73616e6974697a653d74727565)"
      ]
    },
    {
      "cell_type": "code",
      "metadata": {
        "id": "AEWONaxYWODw",
        "colab_type": "code",
        "colab": {}
      },
      "source": [
        ""
      ],
      "execution_count": 0,
      "outputs": []
    }
  ]
}